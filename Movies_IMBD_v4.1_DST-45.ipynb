{
 "cells": [
  {
   "cell_type": "code",
   "execution_count": 6,
   "metadata": {
    "_cell_guid": "b1076dfc-b9ad-4769-8c92-a6c4dae69d19",
    "_uuid": "8f2839f25d086af736a60e9eeb907d3b93b6e0e5",
    "colab": {},
    "colab_type": "code",
    "id": "U2D2gTdJVp90"
   },
   "outputs": [],
   "source": [
    "import numpy as np\n",
    "import pandas as pd\n",
    "import seaborn as sns\n",
    "import matplotlib.pyplot as plt\n",
    "from collections import Counter"
   ]
  },
  {
   "cell_type": "code",
   "execution_count": 7,
   "metadata": {
    "_cell_guid": "79c7e3d0-c299-4dcb-8224-4455121ee9b0",
    "_uuid": "d629ff2d2480ee46fbb7e2d37f6b5fab8052498a",
    "colab": {},
    "colab_type": "code",
    "id": "oyGfxL3eVp9-"
   },
   "outputs": [
    {
     "data": {
      "text/html": [
       "<div>\n",
       "<style scoped>\n",
       "    .dataframe tbody tr th:only-of-type {\n",
       "        vertical-align: middle;\n",
       "    }\n",
       "\n",
       "    .dataframe tbody tr th {\n",
       "        vertical-align: top;\n",
       "    }\n",
       "\n",
       "    .dataframe thead th {\n",
       "        text-align: right;\n",
       "    }\n",
       "</style>\n",
       "<table border=\"1\" class=\"dataframe\">\n",
       "  <thead>\n",
       "    <tr style=\"text-align: right;\">\n",
       "      <th></th>\n",
       "      <th>imdb_id</th>\n",
       "      <th>budget</th>\n",
       "      <th>revenue</th>\n",
       "      <th>original_title</th>\n",
       "      <th>cast</th>\n",
       "      <th>director</th>\n",
       "      <th>tagline</th>\n",
       "      <th>overview</th>\n",
       "      <th>runtime</th>\n",
       "      <th>genres</th>\n",
       "      <th>production_companies</th>\n",
       "      <th>release_date</th>\n",
       "      <th>vote_average</th>\n",
       "      <th>release_year</th>\n",
       "    </tr>\n",
       "  </thead>\n",
       "  <tbody>\n",
       "    <tr>\n",
       "      <th>299</th>\n",
       "      <td>tt1139668</td>\n",
       "      <td>16000000</td>\n",
       "      <td>76514050</td>\n",
       "      <td>The Unborn</td>\n",
       "      <td>Odette Annable|Gary Oldman|Meagan Good|Cam Gig...</td>\n",
       "      <td>David S. Goyer</td>\n",
       "      <td>Evil will do anything to live.</td>\n",
       "      <td>A young woman fights the spirit that is slowly...</td>\n",
       "      <td>87</td>\n",
       "      <td>Horror|Thriller|Mystery</td>\n",
       "      <td>Rogue Pictures|Phantom Four|Platinum Dunes|Rel...</td>\n",
       "      <td>1/9/2009</td>\n",
       "      <td>4.9</td>\n",
       "      <td>2009</td>\n",
       "    </tr>\n",
       "    <tr>\n",
       "      <th>1158</th>\n",
       "      <td>tt0329028</td>\n",
       "      <td>19000000</td>\n",
       "      <td>39267515</td>\n",
       "      <td>Dumb and Dumberer: When Harry Met Lloyd</td>\n",
       "      <td>Mimi Rogers|Eric Christian Olsen|Luis GuzmÃ¡n|...</td>\n",
       "      <td>Troy Miller</td>\n",
       "      <td>The evolution of dumb...</td>\n",
       "      <td>This wacky prequel to the 1994 blockbuster goe...</td>\n",
       "      <td>85</td>\n",
       "      <td>Comedy</td>\n",
       "      <td>New Line Cinema</td>\n",
       "      <td>6/13/2003</td>\n",
       "      <td>4.2</td>\n",
       "      <td>2003</td>\n",
       "    </tr>\n",
       "    <tr>\n",
       "      <th>1202</th>\n",
       "      <td>tt1979320</td>\n",
       "      <td>38000000</td>\n",
       "      <td>90247624</td>\n",
       "      <td>Rush</td>\n",
       "      <td>Daniel BrÃ¼hl|Chris Hemsworth|Olivia Wilde|Ale...</td>\n",
       "      <td>Ron Howard</td>\n",
       "      <td>Everyone's driven by something.</td>\n",
       "      <td>A biographical drama centered on the rivalry b...</td>\n",
       "      <td>123</td>\n",
       "      <td>Drama|Action</td>\n",
       "      <td>Revolution Films|Working Title Films|Cross Cre...</td>\n",
       "      <td>9/2/2013</td>\n",
       "      <td>7.7</td>\n",
       "      <td>2013</td>\n",
       "    </tr>\n",
       "    <tr>\n",
       "      <th>231</th>\n",
       "      <td>tt1929263</td>\n",
       "      <td>12000000</td>\n",
       "      <td>101332962</td>\n",
       "      <td>Heaven is for Real</td>\n",
       "      <td>Greg Kinnear|Kelly Reilly|Connor Corum|Thomas ...</td>\n",
       "      <td>Randall Wallace</td>\n",
       "      <td>Unlock the mystery</td>\n",
       "      <td>Heaven is for Real recounts the true story of ...</td>\n",
       "      <td>99</td>\n",
       "      <td>Drama</td>\n",
       "      <td>TriStar Pictures|Screen Gems|Roth Films</td>\n",
       "      <td>4/16/2014</td>\n",
       "      <td>6.1</td>\n",
       "      <td>2014</td>\n",
       "    </tr>\n",
       "    <tr>\n",
       "      <th>1025</th>\n",
       "      <td>tt1586265</td>\n",
       "      <td>40000000</td>\n",
       "      <td>79700000</td>\n",
       "      <td>What to Expect When You're Expecting</td>\n",
       "      <td>Cameron Diaz|Jennifer Lopez|Elizabeth Banks|An...</td>\n",
       "      <td>Kirk Jones</td>\n",
       "      <td>It's too late to pull out now.</td>\n",
       "      <td>Challenges of impending parenthood turn the li...</td>\n",
       "      <td>110</td>\n",
       "      <td>Romance|Comedy|Drama</td>\n",
       "      <td>Alcon Entertainment|Lionsgate|Phoenix Pictures...</td>\n",
       "      <td>5/17/2012</td>\n",
       "      <td>5.7</td>\n",
       "      <td>2012</td>\n",
       "    </tr>\n",
       "  </tbody>\n",
       "</table>\n",
       "</div>"
      ],
      "text/plain": [
       "        imdb_id    budget    revenue                           original_title  \\\n",
       "299   tt1139668  16000000   76514050                               The Unborn   \n",
       "1158  tt0329028  19000000   39267515  Dumb and Dumberer: When Harry Met Lloyd   \n",
       "1202  tt1979320  38000000   90247624                                     Rush   \n",
       "231   tt1929263  12000000  101332962                       Heaven is for Real   \n",
       "1025  tt1586265  40000000   79700000     What to Expect When You're Expecting   \n",
       "\n",
       "                                                   cast         director  \\\n",
       "299   Odette Annable|Gary Oldman|Meagan Good|Cam Gig...   David S. Goyer   \n",
       "1158  Mimi Rogers|Eric Christian Olsen|Luis GuzmÃ¡n|...      Troy Miller   \n",
       "1202  Daniel BrÃ¼hl|Chris Hemsworth|Olivia Wilde|Ale...       Ron Howard   \n",
       "231   Greg Kinnear|Kelly Reilly|Connor Corum|Thomas ...  Randall Wallace   \n",
       "1025  Cameron Diaz|Jennifer Lopez|Elizabeth Banks|An...       Kirk Jones   \n",
       "\n",
       "                              tagline  \\\n",
       "299    Evil will do anything to live.   \n",
       "1158         The evolution of dumb...   \n",
       "1202  Everyone's driven by something.   \n",
       "231                Unlock the mystery   \n",
       "1025   It's too late to pull out now.   \n",
       "\n",
       "                                               overview  runtime  \\\n",
       "299   A young woman fights the spirit that is slowly...       87   \n",
       "1158  This wacky prequel to the 1994 blockbuster goe...       85   \n",
       "1202  A biographical drama centered on the rivalry b...      123   \n",
       "231   Heaven is for Real recounts the true story of ...       99   \n",
       "1025  Challenges of impending parenthood turn the li...      110   \n",
       "\n",
       "                       genres  \\\n",
       "299   Horror|Thriller|Mystery   \n",
       "1158                   Comedy   \n",
       "1202             Drama|Action   \n",
       "231                     Drama   \n",
       "1025     Romance|Comedy|Drama   \n",
       "\n",
       "                                   production_companies release_date  \\\n",
       "299   Rogue Pictures|Phantom Four|Platinum Dunes|Rel...     1/9/2009   \n",
       "1158                                    New Line Cinema    6/13/2003   \n",
       "1202  Revolution Films|Working Title Films|Cross Cre...     9/2/2013   \n",
       "231             TriStar Pictures|Screen Gems|Roth Films    4/16/2014   \n",
       "1025  Alcon Entertainment|Lionsgate|Phoenix Pictures...    5/17/2012   \n",
       "\n",
       "      vote_average  release_year  \n",
       "299            4.9          2009  \n",
       "1158           4.2          2003  \n",
       "1202           7.7          2013  \n",
       "231            6.1          2014  \n",
       "1025           5.7          2012  "
      ]
     },
     "execution_count": 7,
     "metadata": {},
     "output_type": "execute_result"
    }
   ],
   "source": [
    "data = pd.read_csv('movie_bd_v5.csv')\n",
    "data.sample(5)"
   ]
  },
  {
   "cell_type": "code",
   "execution_count": 8,
   "metadata": {
    "colab": {},
    "colab_type": "code",
    "id": "CoYUnagMVp-C"
   },
   "outputs": [
    {
     "data": {
      "text/html": [
       "<div>\n",
       "<style scoped>\n",
       "    .dataframe tbody tr th:only-of-type {\n",
       "        vertical-align: middle;\n",
       "    }\n",
       "\n",
       "    .dataframe tbody tr th {\n",
       "        vertical-align: top;\n",
       "    }\n",
       "\n",
       "    .dataframe thead th {\n",
       "        text-align: right;\n",
       "    }\n",
       "</style>\n",
       "<table border=\"1\" class=\"dataframe\">\n",
       "  <thead>\n",
       "    <tr style=\"text-align: right;\">\n",
       "      <th></th>\n",
       "      <th>budget</th>\n",
       "      <th>revenue</th>\n",
       "      <th>runtime</th>\n",
       "      <th>vote_average</th>\n",
       "      <th>release_year</th>\n",
       "    </tr>\n",
       "  </thead>\n",
       "  <tbody>\n",
       "    <tr>\n",
       "      <th>count</th>\n",
       "      <td>1.889000e+03</td>\n",
       "      <td>1.889000e+03</td>\n",
       "      <td>1889.000000</td>\n",
       "      <td>1889.000000</td>\n",
       "      <td>1889.000000</td>\n",
       "    </tr>\n",
       "    <tr>\n",
       "      <th>mean</th>\n",
       "      <td>5.431083e+07</td>\n",
       "      <td>1.553653e+08</td>\n",
       "      <td>109.658549</td>\n",
       "      <td>6.140762</td>\n",
       "      <td>2007.860773</td>\n",
       "    </tr>\n",
       "    <tr>\n",
       "      <th>std</th>\n",
       "      <td>4.858721e+07</td>\n",
       "      <td>2.146698e+08</td>\n",
       "      <td>18.017041</td>\n",
       "      <td>0.764763</td>\n",
       "      <td>4.468841</td>\n",
       "    </tr>\n",
       "    <tr>\n",
       "      <th>min</th>\n",
       "      <td>5.000000e+06</td>\n",
       "      <td>2.033165e+06</td>\n",
       "      <td>63.000000</td>\n",
       "      <td>3.300000</td>\n",
       "      <td>2000.000000</td>\n",
       "    </tr>\n",
       "    <tr>\n",
       "      <th>25%</th>\n",
       "      <td>2.000000e+07</td>\n",
       "      <td>3.456058e+07</td>\n",
       "      <td>97.000000</td>\n",
       "      <td>5.600000</td>\n",
       "      <td>2004.000000</td>\n",
       "    </tr>\n",
       "    <tr>\n",
       "      <th>50%</th>\n",
       "      <td>3.800000e+07</td>\n",
       "      <td>8.361541e+07</td>\n",
       "      <td>107.000000</td>\n",
       "      <td>6.100000</td>\n",
       "      <td>2008.000000</td>\n",
       "    </tr>\n",
       "    <tr>\n",
       "      <th>75%</th>\n",
       "      <td>7.200000e+07</td>\n",
       "      <td>1.782626e+08</td>\n",
       "      <td>120.000000</td>\n",
       "      <td>6.600000</td>\n",
       "      <td>2012.000000</td>\n",
       "    </tr>\n",
       "    <tr>\n",
       "      <th>max</th>\n",
       "      <td>3.800000e+08</td>\n",
       "      <td>2.781506e+09</td>\n",
       "      <td>214.000000</td>\n",
       "      <td>8.100000</td>\n",
       "      <td>2015.000000</td>\n",
       "    </tr>\n",
       "  </tbody>\n",
       "</table>\n",
       "</div>"
      ],
      "text/plain": [
       "             budget       revenue      runtime  vote_average  release_year\n",
       "count  1.889000e+03  1.889000e+03  1889.000000   1889.000000   1889.000000\n",
       "mean   5.431083e+07  1.553653e+08   109.658549      6.140762   2007.860773\n",
       "std    4.858721e+07  2.146698e+08    18.017041      0.764763      4.468841\n",
       "min    5.000000e+06  2.033165e+06    63.000000      3.300000   2000.000000\n",
       "25%    2.000000e+07  3.456058e+07    97.000000      5.600000   2004.000000\n",
       "50%    3.800000e+07  8.361541e+07   107.000000      6.100000   2008.000000\n",
       "75%    7.200000e+07  1.782626e+08   120.000000      6.600000   2012.000000\n",
       "max    3.800000e+08  2.781506e+09   214.000000      8.100000   2015.000000"
      ]
     },
     "execution_count": 8,
     "metadata": {},
     "output_type": "execute_result"
    }
   ],
   "source": [
    "data.describe()"
   ]
  },
  {
   "cell_type": "markdown",
   "metadata": {
    "colab_type": "text",
    "id": "DTIt7ezGVp-G"
   },
   "source": [
    "# Предобработка"
   ]
  },
  {
   "cell_type": "code",
   "execution_count": 29,
   "metadata": {
    "colab": {},
    "colab_type": "code",
    "id": "jNb40DwKVp-H"
   },
   "outputs": [],
   "source": [
    "answers = {} # создадим словарь для ответов\n",
    "\n",
    "data['profit'] = data['revenue'] - data['budget'] #прописываем код для колонки profit\n",
    "\n",
    "#the time given in the dataset is in string format.\n",
    "#So we need to change this in datetime format\n",
    "# ..."
   ]
  },
  {
   "cell_type": "markdown",
   "metadata": {
    "colab_type": "text",
    "id": "YxZaH-nPVp-L"
   },
   "source": [
    "# 1. У какого фильма из списка самый большой бюджет?"
   ]
  },
  {
   "cell_type": "markdown",
   "metadata": {
    "colab_type": "text",
    "id": "Nd-G5gX6Vp-M"
   },
   "source": [
    "Использовать варианты ответов в коде решения запрещено.    \n",
    "Вы думаете и в жизни у вас будут варианты ответов?)"
   ]
  },
  {
   "cell_type": "code",
   "execution_count": 9,
   "metadata": {
    "colab": {},
    "colab_type": "code",
    "id": "uVnXAY5RVp-O"
   },
   "outputs": [
    {
     "name": "stdout",
     "output_type": "stream",
     "text": [
      "{'1': 'Pirates of the Caribbean: On Stranger Tides (tt1298650)', '2': 'Gods and Generals (tt0279111)', '3': 'Winnie the Pooh (tt1449283)', '4': '110', '5': '107', '6': 'Avatar (tt0499549)', '7': 'The Lone Ranger (tt1210819)', '8': '1478', '9': 'The Dark Knight (tt0468569)', '10': 'The Lone Ranger (tt1210819)', '11': 'Drama', '12': 'Drama', '13': 'Peter Jackson', '14': 'Robert Rodriguez', '15': 'Chris Hemsworth', '16': 'Matt Damon', '17': 'Action', '18': 'K-19: The Widowmaker (tt0267626)', '19': '2005', '20': '2014', '21': 'Сентябрь', '22': '450', '23': 'Peter Jackson', '24': 'Four By Two Productions', '25': 'Midnight Picture Show', '26': 'Inside Out, The Dark Knight, 12 Years a Slave', '27': 'Daniel Radcliffe & Rupert Grint'}\n"
     ]
    }
   ],
   "source": [
    "# в словарь вставляем номер вопроса и ваш ответ на него\n",
    "answers = {}    \n",
    "answers['1'] = 'Pirates of the Caribbean: On Stranger Tides (tt1298650)' # \"+\"\n",
    "answers['2'] = 'Gods and Generals (tt0279111)' # \"+\"\n",
    "answers['3'] = 'Winnie the Pooh (tt1449283)' # \"+\"\n",
    "answers['4'] = '110' # \"+\"\n",
    "answers['5'] = '107' # \"+\"\n",
    "answers['6'] = 'Avatar (tt0499549)' # \"+\"\n",
    "answers['7'] = 'The Lone Ranger (tt1210819)' # \"+\"\n",
    "answers['8'] = '1478' # \"+\"\n",
    "answers['9'] = 'The Dark Knight (tt0468569)' # \"+\"\n",
    "answers['10'] = 'The Lone Ranger (tt1210819)' # \"+\"\n",
    "answers['11'] = 'Drama' # \"+\"\n",
    "answers['12'] = 'Drama' # \"+\"\n",
    "answers['13'] = 'Peter Jackson' # \"+\"\n",
    "answers['14'] = 'Robert Rodriguez' # \"+\"\n",
    "answers['15'] = 'Chris Hemsworth' # \"+\"\n",
    "answers['16'] = 'Matt Damon' # \"+\"\n",
    "answers['17'] = 'Action' # \"+\"\n",
    "answers['18'] = 'K-19: The Widowmaker (tt0267626)' # \"+\"\n",
    "answers['19'] = '2005' # \"+\"\n",
    "answers['20'] = '2014' # \"+\"\n",
    "answers['21'] = 'Сентябрь' # \"+\"\n",
    "answers['22'] = '450' # \"+\"\n",
    "answers['23'] = 'Peter Jackson' # \"+\"\n",
    "answers['24'] = 'Four By Two Productions' # \"+\"\n",
    "answers['25'] = 'Midnight Picture Show' # \"+\"\n",
    "answers['26'] = 'Inside Out, The Dark Knight, 12 Years a Slave' # \"+\"\n",
    "answers ['27'] = 'Daniel Radcliffe & Rupert Grint' # \"+\"\n",
    "\n",
    "# если ответили верно, можете добавить комментарий со значком \"+\""
   ]
  },
  {
   "cell_type": "code",
   "execution_count": 31,
   "metadata": {
    "colab": {},
    "colab_type": "code",
    "id": "dZwb3m28Vp-S"
   },
   "outputs": [
    {
     "data": {
      "text/plain": [
       "'Pirates of the Caribbean: On Stranger Tides'"
      ]
     },
     "execution_count": 31,
     "metadata": {},
     "output_type": "execute_result"
    }
   ],
   "source": [
    "data[data['budget'] == data['budget'].max()].original_title.iloc[0]"
   ]
  },
  {
   "cell_type": "markdown",
   "metadata": {
    "colab_type": "text",
    "id": "K7L3nbRXVp-X"
   },
   "source": [
    "ВАРИАНТ 2"
   ]
  },
  {
   "cell_type": "code",
   "execution_count": 32,
   "metadata": {
    "colab": {},
    "colab_type": "code",
    "id": "OGaoQI7rVp-X"
   },
   "outputs": [],
   "source": [
    "# можно добавлять разные варианты решения"
   ]
  },
  {
   "cell_type": "markdown",
   "metadata": {
    "colab_type": "text",
    "id": "FNRbbI3vVp-c"
   },
   "source": [
    "# 2. Какой из фильмов самый длительный (в минутах)?"
   ]
  },
  {
   "cell_type": "code",
   "execution_count": 33,
   "metadata": {
    "colab": {},
    "colab_type": "code",
    "id": "ot-VX2XrVp-g"
   },
   "outputs": [
    {
     "data": {
      "text/plain": [
       "'Gods and Generals'"
      ]
     },
     "execution_count": 33,
     "metadata": {},
     "output_type": "execute_result"
    }
   ],
   "source": [
    "data[data['runtime'] == data['runtime'].max()].original_title.iloc[0]"
   ]
  },
  {
   "cell_type": "markdown",
   "metadata": {
    "colab_type": "text",
    "id": "bapLlpW8Vp-k"
   },
   "source": [
    "# 3. Какой из фильмов самый короткий (в минутах)?\n",
    "\n",
    "\n",
    "\n"
   ]
  },
  {
   "cell_type": "code",
   "execution_count": 34,
   "metadata": {
    "colab": {},
    "colab_type": "code",
    "id": "YBxaSHuAVp-l"
   },
   "outputs": [
    {
     "data": {
      "text/plain": [
       "'Winnie the Pooh'"
      ]
     },
     "execution_count": 34,
     "metadata": {},
     "output_type": "execute_result"
    }
   ],
   "source": [
    "data[data['runtime'] == data['runtime'].min()].original_title.iloc[0]"
   ]
  },
  {
   "cell_type": "markdown",
   "metadata": {
    "colab_type": "text",
    "id": "TfQbxbfNVp-p"
   },
   "source": [
    "# 4. Какова средняя длительность фильмов?\n"
   ]
  },
  {
   "cell_type": "code",
   "execution_count": 35,
   "metadata": {
    "colab": {},
    "colab_type": "code",
    "id": "5K6dKZYVVp-q"
   },
   "outputs": [
    {
     "data": {
      "text/plain": [
       "110"
      ]
     },
     "execution_count": 35,
     "metadata": {},
     "output_type": "execute_result"
    }
   ],
   "source": [
    "round(data['runtime'].mean())"
   ]
  },
  {
   "cell_type": "markdown",
   "metadata": {
    "colab_type": "text",
    "id": "r5TvbnT_Vp-u"
   },
   "source": [
    "# 5. Каково медианное значение длительности фильмов? "
   ]
  },
  {
   "cell_type": "code",
   "execution_count": 36,
   "metadata": {
    "colab": {},
    "colab_type": "code",
    "id": "iBROplKnVp-v"
   },
   "outputs": [
    {
     "data": {
      "text/plain": [
       "107.0"
      ]
     },
     "execution_count": 36,
     "metadata": {},
     "output_type": "execute_result"
    }
   ],
   "source": [
    "data['runtime'].median()"
   ]
  },
  {
   "cell_type": "markdown",
   "metadata": {
    "colab_type": "text",
    "id": "39P-deDSVp-y"
   },
   "source": [
    "# 6. Какой самый прибыльный фильм?\n",
    "#### Внимание! Здесь и далее под «прибылью» или «убытками» понимается разность между сборами и бюджетом фильма. (прибыль = сборы - бюджет) в нашем датасете это будет (profit = revenue - budget) "
   ]
  },
  {
   "cell_type": "code",
   "execution_count": 37,
   "metadata": {
    "colab": {},
    "colab_type": "code",
    "id": "UYZh4T9WVp-y"
   },
   "outputs": [
    {
     "data": {
      "text/plain": [
       "'Avatar'"
      ]
     },
     "execution_count": 37,
     "metadata": {},
     "output_type": "execute_result"
    }
   ],
   "source": [
    "# лучше код получения столбца profit вынести в Предобработку что в начале\n",
    "data[data['profit'] == data['profit'].max()].original_title.iloc[0]"
   ]
  },
  {
   "cell_type": "markdown",
   "metadata": {
    "colab_type": "text",
    "id": "M99JmIX4Vp-2"
   },
   "source": [
    "# 7. Какой фильм самый убыточный? "
   ]
  },
  {
   "cell_type": "code",
   "execution_count": 38,
   "metadata": {
    "colab": {},
    "colab_type": "code",
    "id": "w-D2m4XPVp-3"
   },
   "outputs": [
    {
     "data": {
      "text/plain": [
       "'The Lone Ranger'"
      ]
     },
     "execution_count": 38,
     "metadata": {},
     "output_type": "execute_result"
    }
   ],
   "source": [
    "data[data['profit'] == data['profit'].min()].original_title.iloc[0]"
   ]
  },
  {
   "cell_type": "markdown",
   "metadata": {
    "colab_type": "text",
    "id": "wEOM5ERVVp-6"
   },
   "source": [
    "# 8. У скольких фильмов из датасета объем сборов оказался выше бюджета?"
   ]
  },
  {
   "cell_type": "code",
   "execution_count": 39,
   "metadata": {
    "colab": {},
    "colab_type": "code",
    "id": "y00_7HD6Vp-7"
   },
   "outputs": [
    {
     "data": {
      "text/plain": [
       "1478"
      ]
     },
     "execution_count": 39,
     "metadata": {},
     "output_type": "execute_result"
    }
   ],
   "source": [
    "len(data[data['profit'] > 0])"
   ]
  },
  {
   "cell_type": "markdown",
   "metadata": {
    "colab_type": "text",
    "id": "xhpspA9KVp_A"
   },
   "source": [
    "# 9. Какой фильм оказался самым кассовым в 2008 году?"
   ]
  },
  {
   "cell_type": "code",
   "execution_count": 40,
   "metadata": {
    "colab": {},
    "colab_type": "code",
    "id": "MoUyQr9RVp_B"
   },
   "outputs": [
    {
     "data": {
      "text/html": [
       "<div>\n",
       "<style scoped>\n",
       "    .dataframe tbody tr th:only-of-type {\n",
       "        vertical-align: middle;\n",
       "    }\n",
       "\n",
       "    .dataframe tbody tr th {\n",
       "        vertical-align: top;\n",
       "    }\n",
       "\n",
       "    .dataframe thead th {\n",
       "        text-align: right;\n",
       "    }\n",
       "</style>\n",
       "<table border=\"1\" class=\"dataframe\">\n",
       "  <thead>\n",
       "    <tr style=\"text-align: right;\">\n",
       "      <th></th>\n",
       "      <th>imdb_id</th>\n",
       "      <th>budget</th>\n",
       "      <th>revenue</th>\n",
       "      <th>original_title</th>\n",
       "      <th>cast</th>\n",
       "      <th>director</th>\n",
       "      <th>tagline</th>\n",
       "      <th>overview</th>\n",
       "      <th>runtime</th>\n",
       "      <th>genres</th>\n",
       "      <th>production_companies</th>\n",
       "      <th>release_date</th>\n",
       "      <th>vote_average</th>\n",
       "      <th>release_year</th>\n",
       "      <th>profit</th>\n",
       "    </tr>\n",
       "  </thead>\n",
       "  <tbody>\n",
       "    <tr>\n",
       "      <th>599</th>\n",
       "      <td>tt0468569</td>\n",
       "      <td>185000000</td>\n",
       "      <td>1001921825</td>\n",
       "      <td>The Dark Knight</td>\n",
       "      <td>Christian Bale|Michael Caine|Heath Ledger|Aaro...</td>\n",
       "      <td>Christopher Nolan</td>\n",
       "      <td>Why So Serious?</td>\n",
       "      <td>Batman raises the stakes in his war on crime. ...</td>\n",
       "      <td>152</td>\n",
       "      <td>Drama|Action|Crime|Thriller</td>\n",
       "      <td>[DC Comics, Legendary Pictures, Warner Bros., ...</td>\n",
       "      <td>7/16/2008</td>\n",
       "      <td>8.1</td>\n",
       "      <td>2008</td>\n",
       "      <td>816921825</td>\n",
       "    </tr>\n",
       "    <tr>\n",
       "      <th>603</th>\n",
       "      <td>tt0367882</td>\n",
       "      <td>185000000</td>\n",
       "      <td>786636033</td>\n",
       "      <td>Indiana Jones and the Kingdom of the Crystal S...</td>\n",
       "      <td>Harrison Ford|Cate Blanchett|Shia LaBeouf|Ray ...</td>\n",
       "      <td>Steven Spielberg</td>\n",
       "      <td>The adventure continues . . .</td>\n",
       "      <td>Set during the Cold War, the Soviets â€“ led b...</td>\n",
       "      <td>122</td>\n",
       "      <td>Adventure|Action</td>\n",
       "      <td>[Lucasfilm, Paramount Pictures]</td>\n",
       "      <td>5/21/2008</td>\n",
       "      <td>5.6</td>\n",
       "      <td>2008</td>\n",
       "      <td>601636033</td>\n",
       "    </tr>\n",
       "    <tr>\n",
       "      <th>607</th>\n",
       "      <td>tt0795421</td>\n",
       "      <td>52000000</td>\n",
       "      <td>609841637</td>\n",
       "      <td>Mamma Mia!</td>\n",
       "      <td>Meryl Streep|Pierce Brosnan|Amanda Seyfried|Co...</td>\n",
       "      <td>Phyllida Lloyd</td>\n",
       "      <td>Take a trip down the aisle you'll never forget</td>\n",
       "      <td>Set on an idyllic Greek island, the plot serve...</td>\n",
       "      <td>108</td>\n",
       "      <td>Comedy|Romance</td>\n",
       "      <td>[Universal Pictures, Internationale Filmproduk...</td>\n",
       "      <td>6/30/2008</td>\n",
       "      <td>6.2</td>\n",
       "      <td>2008</td>\n",
       "      <td>557841637</td>\n",
       "    </tr>\n",
       "    <tr>\n",
       "      <th>606</th>\n",
       "      <td>tt0441773</td>\n",
       "      <td>130000000</td>\n",
       "      <td>631744560</td>\n",
       "      <td>Kung Fu Panda</td>\n",
       "      <td>Jack Black|Dustin Hoffman|Angelina Jolie|Jacki...</td>\n",
       "      <td>Mark Osborne|John Stevenson</td>\n",
       "      <td>Prepare for awesomeness.</td>\n",
       "      <td>When the Valley of Peace is threatened, lazy P...</td>\n",
       "      <td>90</td>\n",
       "      <td>Animation|Family</td>\n",
       "      <td>[DreamWorks Animation]</td>\n",
       "      <td>6/4/2008</td>\n",
       "      <td>6.8</td>\n",
       "      <td>2008</td>\n",
       "      <td>501744560</td>\n",
       "    </tr>\n",
       "    <tr>\n",
       "      <th>621</th>\n",
       "      <td>tt0448157</td>\n",
       "      <td>150000000</td>\n",
       "      <td>624029371</td>\n",
       "      <td>Hancock</td>\n",
       "      <td>Will Smith|Charlize Theron|Jason Bateman|Jae H...</td>\n",
       "      <td>Peter Berg</td>\n",
       "      <td>Bad Behavior. Bad Attitude. Real Hero.</td>\n",
       "      <td>Hancock is a down-and-out superhero who's forc...</td>\n",
       "      <td>92</td>\n",
       "      <td>Fantasy|Action</td>\n",
       "      <td>[Columbia Pictures, Weed Road Pictures, Forwar...</td>\n",
       "      <td>7/1/2008</td>\n",
       "      <td>6.0</td>\n",
       "      <td>2008</td>\n",
       "      <td>474029371</td>\n",
       "    </tr>\n",
       "    <tr>\n",
       "      <th>...</th>\n",
       "      <td>...</td>\n",
       "      <td>...</td>\n",
       "      <td>...</td>\n",
       "      <td>...</td>\n",
       "      <td>...</td>\n",
       "      <td>...</td>\n",
       "      <td>...</td>\n",
       "      <td>...</td>\n",
       "      <td>...</td>\n",
       "      <td>...</td>\n",
       "      <td>...</td>\n",
       "      <td>...</td>\n",
       "      <td>...</td>\n",
       "      <td>...</td>\n",
       "      <td>...</td>\n",
       "    </tr>\n",
       "    <tr>\n",
       "      <th>668</th>\n",
       "      <td>tt0811080</td>\n",
       "      <td>120000000</td>\n",
       "      <td>93945766</td>\n",
       "      <td>Speed Racer</td>\n",
       "      <td>Emile Hirsch|Christina Ricci|Matthew Fox|Susan...</td>\n",
       "      <td>Lana Wachowski|Lilly Wachowski</td>\n",
       "      <td>Go!</td>\n",
       "      <td>Speed Racer is the tale of a young and brillia...</td>\n",
       "      <td>135</td>\n",
       "      <td>Family|Action|Science Fiction</td>\n",
       "      <td>[Village Roadshow Pictures, Studio Babelsberg,...</td>\n",
       "      <td>5/9/2008</td>\n",
       "      <td>5.6</td>\n",
       "      <td>2008</td>\n",
       "      <td>-26054234</td>\n",
       "    </tr>\n",
       "    <tr>\n",
       "      <th>705</th>\n",
       "      <td>tt0469903</td>\n",
       "      <td>40000000</td>\n",
       "      <td>9793496</td>\n",
       "      <td>The Express</td>\n",
       "      <td>Rob Brown|Dennis Quaid|Darrin Henson|Charles S...</td>\n",
       "      <td>Gary Fleder</td>\n",
       "      <td>He changed our country... one yard at a time.</td>\n",
       "      <td>Based on the incredible true story, The Expres...</td>\n",
       "      <td>130</td>\n",
       "      <td>Drama</td>\n",
       "      <td>[Davis Entertainment, Relativity Media, IDEA F...</td>\n",
       "      <td>10/10/2008</td>\n",
       "      <td>7.1</td>\n",
       "      <td>2008</td>\n",
       "      <td>-30206504</td>\n",
       "    </tr>\n",
       "    <tr>\n",
       "      <th>682</th>\n",
       "      <td>tt0970411</td>\n",
       "      <td>55000000</td>\n",
       "      <td>17869048</td>\n",
       "      <td>City of Ember</td>\n",
       "      <td>Saoirse Ronan|Harry Treadaway|Mary Kay Place|B...</td>\n",
       "      <td>Gil Kenan</td>\n",
       "      <td>Escape is the only option</td>\n",
       "      <td>For generations, the people of the City of Emb...</td>\n",
       "      <td>90</td>\n",
       "      <td>Adventure|Family|Fantasy</td>\n",
       "      <td>[Playtone, Walden Media]</td>\n",
       "      <td>10/7/2008</td>\n",
       "      <td>6.1</td>\n",
       "      <td>2008</td>\n",
       "      <td>-37130952</td>\n",
       "    </tr>\n",
       "    <tr>\n",
       "      <th>679</th>\n",
       "      <td>tt0462465</td>\n",
       "      <td>50000000</td>\n",
       "      <td>7033683</td>\n",
       "      <td>Outlander</td>\n",
       "      <td>Jim Caviezel|Sophia Myles|Jack Huston|Ron Perl...</td>\n",
       "      <td>Howard McCain</td>\n",
       "      <td>It destroyed his world. He won't let it destro...</td>\n",
       "      <td>During the reign of the Vikings, a man from an...</td>\n",
       "      <td>115</td>\n",
       "      <td>Fantasy|Action|Science Fiction</td>\n",
       "      <td>[Ascendant Pictures, Rising Star, VIP Medienfo...</td>\n",
       "      <td>4/24/2008</td>\n",
       "      <td>6.0</td>\n",
       "      <td>2008</td>\n",
       "      <td>-42966317</td>\n",
       "    </tr>\n",
       "    <tr>\n",
       "      <th>636</th>\n",
       "      <td>tt0455824</td>\n",
       "      <td>130000000</td>\n",
       "      <td>49554002</td>\n",
       "      <td>Australia</td>\n",
       "      <td>Nicole Kidman|Hugh Jackman|Essie Davis|David W...</td>\n",
       "      <td>Baz Luhrmann</td>\n",
       "      <td>Welcome to Australia!</td>\n",
       "      <td>Set in northern Australia before World War II,...</td>\n",
       "      <td>165</td>\n",
       "      <td>Drama</td>\n",
       "      <td>[Bazmark Films, Ingenious Film Partners, Twent...</td>\n",
       "      <td>11/18/2008</td>\n",
       "      <td>6.3</td>\n",
       "      <td>2008</td>\n",
       "      <td>-80445998</td>\n",
       "    </tr>\n",
       "  </tbody>\n",
       "</table>\n",
       "<p>121 rows × 15 columns</p>\n",
       "</div>"
      ],
      "text/plain": [
       "       imdb_id     budget     revenue  \\\n",
       "599  tt0468569  185000000  1001921825   \n",
       "603  tt0367882  185000000   786636033   \n",
       "607  tt0795421   52000000   609841637   \n",
       "606  tt0441773  130000000   631744560   \n",
       "621  tt0448157  150000000   624029371   \n",
       "..         ...        ...         ...   \n",
       "668  tt0811080  120000000    93945766   \n",
       "705  tt0469903   40000000     9793496   \n",
       "682  tt0970411   55000000    17869048   \n",
       "679  tt0462465   50000000     7033683   \n",
       "636  tt0455824  130000000    49554002   \n",
       "\n",
       "                                        original_title  \\\n",
       "599                                    The Dark Knight   \n",
       "603  Indiana Jones and the Kingdom of the Crystal S...   \n",
       "607                                         Mamma Mia!   \n",
       "606                                      Kung Fu Panda   \n",
       "621                                            Hancock   \n",
       "..                                                 ...   \n",
       "668                                        Speed Racer   \n",
       "705                                        The Express   \n",
       "682                                      City of Ember   \n",
       "679                                          Outlander   \n",
       "636                                          Australia   \n",
       "\n",
       "                                                  cast  \\\n",
       "599  Christian Bale|Michael Caine|Heath Ledger|Aaro...   \n",
       "603  Harrison Ford|Cate Blanchett|Shia LaBeouf|Ray ...   \n",
       "607  Meryl Streep|Pierce Brosnan|Amanda Seyfried|Co...   \n",
       "606  Jack Black|Dustin Hoffman|Angelina Jolie|Jacki...   \n",
       "621  Will Smith|Charlize Theron|Jason Bateman|Jae H...   \n",
       "..                                                 ...   \n",
       "668  Emile Hirsch|Christina Ricci|Matthew Fox|Susan...   \n",
       "705  Rob Brown|Dennis Quaid|Darrin Henson|Charles S...   \n",
       "682  Saoirse Ronan|Harry Treadaway|Mary Kay Place|B...   \n",
       "679  Jim Caviezel|Sophia Myles|Jack Huston|Ron Perl...   \n",
       "636  Nicole Kidman|Hugh Jackman|Essie Davis|David W...   \n",
       "\n",
       "                           director  \\\n",
       "599               Christopher Nolan   \n",
       "603                Steven Spielberg   \n",
       "607                  Phyllida Lloyd   \n",
       "606     Mark Osborne|John Stevenson   \n",
       "621                      Peter Berg   \n",
       "..                              ...   \n",
       "668  Lana Wachowski|Lilly Wachowski   \n",
       "705                     Gary Fleder   \n",
       "682                       Gil Kenan   \n",
       "679                   Howard McCain   \n",
       "636                    Baz Luhrmann   \n",
       "\n",
       "                                               tagline  \\\n",
       "599                                    Why So Serious?   \n",
       "603                      The adventure continues . . .   \n",
       "607     Take a trip down the aisle you'll never forget   \n",
       "606                           Prepare for awesomeness.   \n",
       "621             Bad Behavior. Bad Attitude. Real Hero.   \n",
       "..                                                 ...   \n",
       "668                                                Go!   \n",
       "705      He changed our country... one yard at a time.   \n",
       "682                          Escape is the only option   \n",
       "679  It destroyed his world. He won't let it destro...   \n",
       "636                              Welcome to Australia!   \n",
       "\n",
       "                                              overview  runtime  \\\n",
       "599  Batman raises the stakes in his war on crime. ...      152   \n",
       "603  Set during the Cold War, the Soviets â€“ led b...      122   \n",
       "607  Set on an idyllic Greek island, the plot serve...      108   \n",
       "606  When the Valley of Peace is threatened, lazy P...       90   \n",
       "621  Hancock is a down-and-out superhero who's forc...       92   \n",
       "..                                                 ...      ...   \n",
       "668  Speed Racer is the tale of a young and brillia...      135   \n",
       "705  Based on the incredible true story, The Expres...      130   \n",
       "682  For generations, the people of the City of Emb...       90   \n",
       "679  During the reign of the Vikings, a man from an...      115   \n",
       "636  Set in northern Australia before World War II,...      165   \n",
       "\n",
       "                             genres  \\\n",
       "599     Drama|Action|Crime|Thriller   \n",
       "603                Adventure|Action   \n",
       "607                  Comedy|Romance   \n",
       "606                Animation|Family   \n",
       "621                  Fantasy|Action   \n",
       "..                              ...   \n",
       "668   Family|Action|Science Fiction   \n",
       "705                           Drama   \n",
       "682        Adventure|Family|Fantasy   \n",
       "679  Fantasy|Action|Science Fiction   \n",
       "636                           Drama   \n",
       "\n",
       "                                  production_companies release_date  \\\n",
       "599  [DC Comics, Legendary Pictures, Warner Bros., ...    7/16/2008   \n",
       "603                    [Lucasfilm, Paramount Pictures]    5/21/2008   \n",
       "607  [Universal Pictures, Internationale Filmproduk...    6/30/2008   \n",
       "606                             [DreamWorks Animation]     6/4/2008   \n",
       "621  [Columbia Pictures, Weed Road Pictures, Forwar...     7/1/2008   \n",
       "..                                                 ...          ...   \n",
       "668  [Village Roadshow Pictures, Studio Babelsberg,...     5/9/2008   \n",
       "705  [Davis Entertainment, Relativity Media, IDEA F...   10/10/2008   \n",
       "682                           [Playtone, Walden Media]    10/7/2008   \n",
       "679  [Ascendant Pictures, Rising Star, VIP Medienfo...    4/24/2008   \n",
       "636  [Bazmark Films, Ingenious Film Partners, Twent...   11/18/2008   \n",
       "\n",
       "     vote_average  release_year     profit  \n",
       "599           8.1          2008  816921825  \n",
       "603           5.6          2008  601636033  \n",
       "607           6.2          2008  557841637  \n",
       "606           6.8          2008  501744560  \n",
       "621           6.0          2008  474029371  \n",
       "..            ...           ...        ...  \n",
       "668           5.6          2008  -26054234  \n",
       "705           7.1          2008  -30206504  \n",
       "682           6.1          2008  -37130952  \n",
       "679           6.0          2008  -42966317  \n",
       "636           6.3          2008  -80445998  \n",
       "\n",
       "[121 rows x 15 columns]"
      ]
     },
     "execution_count": 40,
     "metadata": {},
     "output_type": "execute_result"
    }
   ],
   "source": [
    "data.loc[data['release_year'] == 2008].sort_values(by='profit', ascending=False)"
   ]
  },
  {
   "cell_type": "code",
   "execution_count": 41,
   "metadata": {},
   "outputs": [
    {
     "data": {
      "text/plain": [
       "'The Dark Knight'"
      ]
     },
     "execution_count": 41,
     "metadata": {},
     "output_type": "execute_result"
    }
   ],
   "source": [
    "# альтернативное решение\n",
    "data = pd.read_csv('movie_bd_v5.csv')\n",
    "data[data.revenue == data[data.release_year == 2008].revenue.max()].original_title.iloc[0]"
   ]
  },
  {
   "cell_type": "markdown",
   "metadata": {
    "colab_type": "text",
    "id": "Zi4hDKidVp_F"
   },
   "source": [
    "# 10. Самый убыточный фильм за период с 2012 по 2014 г. (включительно)?\n"
   ]
  },
  {
   "cell_type": "code",
   "execution_count": 6,
   "metadata": {
    "colab": {},
    "colab_type": "code",
    "id": "XqyRmufJVp_F"
   },
   "outputs": [
    {
     "data": {
      "text/html": [
       "<div>\n",
       "<style scoped>\n",
       "    .dataframe tbody tr th:only-of-type {\n",
       "        vertical-align: middle;\n",
       "    }\n",
       "\n",
       "    .dataframe tbody tr th {\n",
       "        vertical-align: top;\n",
       "    }\n",
       "\n",
       "    .dataframe thead th {\n",
       "        text-align: right;\n",
       "    }\n",
       "</style>\n",
       "<table border=\"1\" class=\"dataframe\">\n",
       "  <thead>\n",
       "    <tr style=\"text-align: right;\">\n",
       "      <th></th>\n",
       "      <th>imdb_id</th>\n",
       "      <th>budget</th>\n",
       "      <th>revenue</th>\n",
       "      <th>original_title</th>\n",
       "      <th>cast</th>\n",
       "      <th>director</th>\n",
       "      <th>tagline</th>\n",
       "      <th>overview</th>\n",
       "      <th>runtime</th>\n",
       "      <th>genres</th>\n",
       "      <th>production_companies</th>\n",
       "      <th>release_date</th>\n",
       "      <th>vote_average</th>\n",
       "      <th>release_year</th>\n",
       "      <th>profit</th>\n",
       "    </tr>\n",
       "  </thead>\n",
       "  <tbody>\n",
       "    <tr>\n",
       "      <th>1245</th>\n",
       "      <td>tt1210819</td>\n",
       "      <td>255000000</td>\n",
       "      <td>89289910</td>\n",
       "      <td>The Lone Ranger</td>\n",
       "      <td>Johnny Depp|Armie Hammer|William Fichtner|Hele...</td>\n",
       "      <td>Gore Verbinski</td>\n",
       "      <td>Never Take Off the Mask</td>\n",
       "      <td>The Texas Rangers chase down a gang of outlaws...</td>\n",
       "      <td>149</td>\n",
       "      <td>Action|Adventure|Western</td>\n",
       "      <td>Walt Disney Pictures|Jerry Bruckheimer Films|I...</td>\n",
       "      <td>7/3/2013</td>\n",
       "      <td>6.0</td>\n",
       "      <td>2013</td>\n",
       "      <td>-165710090</td>\n",
       "    </tr>\n",
       "    <tr>\n",
       "      <th>1214</th>\n",
       "      <td>tt0790736</td>\n",
       "      <td>130000000</td>\n",
       "      <td>61648500</td>\n",
       "      <td>R.I.P.D.</td>\n",
       "      <td>Jeff Bridges|Ryan Reynolds|Kevin Bacon|Stephan...</td>\n",
       "      <td>Robert Schwentke</td>\n",
       "      <td>To protect and serve the living</td>\n",
       "      <td>A recently slain cop joins a team of undead po...</td>\n",
       "      <td>96</td>\n",
       "      <td>Fantasy|Action|Comedy|Crime</td>\n",
       "      <td>Universal Pictures|Original Film|Dark Horse En...</td>\n",
       "      <td>7/18/2013</td>\n",
       "      <td>5.3</td>\n",
       "      <td>2013</td>\n",
       "      <td>-68351500</td>\n",
       "    </tr>\n",
       "    <tr>\n",
       "      <th>1007</th>\n",
       "      <td>tt1374992</td>\n",
       "      <td>60000000</td>\n",
       "      <td>8106475</td>\n",
       "      <td>Upside Down</td>\n",
       "      <td>Kirsten Dunst|Jim Sturgess|Timothy Spall|James...</td>\n",
       "      <td>Juan Diego Solanas</td>\n",
       "      <td>Two worlds. One future.</td>\n",
       "      <td>In an alternate universe where twinned worlds ...</td>\n",
       "      <td>104</td>\n",
       "      <td>Romance|Science Fiction|Drama|Fantasy</td>\n",
       "      <td>Onyx Films|Studio 37|Jouror Productions|France...</td>\n",
       "      <td>9/27/2012</td>\n",
       "      <td>6.1</td>\n",
       "      <td>2012</td>\n",
       "      <td>-51893525</td>\n",
       "    </tr>\n",
       "    <tr>\n",
       "      <th>1302</th>\n",
       "      <td>tt0884726</td>\n",
       "      <td>70000000</td>\n",
       "      <td>18662027</td>\n",
       "      <td>Legends of Oz: Dorothy's Return</td>\n",
       "      <td>Lea Michele|Dan Aykroyd|Patrick Stewart|Hugh D...</td>\n",
       "      <td>Dan St. Pierre</td>\n",
       "      <td>There's trouble in OZ...</td>\n",
       "      <td>Dorothy wakes up in post-tornado Kansas, only ...</td>\n",
       "      <td>88</td>\n",
       "      <td>Animation|Music|Family</td>\n",
       "      <td>Prana Animation Studios|Summertime Entertainment</td>\n",
       "      <td>6/13/2013</td>\n",
       "      <td>6.1</td>\n",
       "      <td>2013</td>\n",
       "      <td>-51337973</td>\n",
       "    </tr>\n",
       "    <tr>\n",
       "      <th>1235</th>\n",
       "      <td>tt1308729</td>\n",
       "      <td>55000000</td>\n",
       "      <td>9489829</td>\n",
       "      <td>Bullet to the Head</td>\n",
       "      <td>Sylvester Stallone|Sung Kang|Sarah Shahi|Adewa...</td>\n",
       "      <td>Walter Hill</td>\n",
       "      <td>Revenge Never Gets Old.</td>\n",
       "      <td>After watching their respective partners die, ...</td>\n",
       "      <td>92</td>\n",
       "      <td>Action|Crime|Thriller</td>\n",
       "      <td>Dark Castle Entertainment|After Dark Films|IM ...</td>\n",
       "      <td>1/31/2013</td>\n",
       "      <td>5.2</td>\n",
       "      <td>2013</td>\n",
       "      <td>-45510171</td>\n",
       "    </tr>\n",
       "    <tr>\n",
       "      <th>...</th>\n",
       "      <td>...</td>\n",
       "      <td>...</td>\n",
       "      <td>...</td>\n",
       "      <td>...</td>\n",
       "      <td>...</td>\n",
       "      <td>...</td>\n",
       "      <td>...</td>\n",
       "      <td>...</td>\n",
       "      <td>...</td>\n",
       "      <td>...</td>\n",
       "      <td>...</td>\n",
       "      <td>...</td>\n",
       "      <td>...</td>\n",
       "      <td>...</td>\n",
       "      <td>...</td>\n",
       "    </tr>\n",
       "    <tr>\n",
       "      <th>1189</th>\n",
       "      <td>tt1690953</td>\n",
       "      <td>76000000</td>\n",
       "      <td>970761885</td>\n",
       "      <td>Despicable Me 2</td>\n",
       "      <td>Steve Carell|Kristen Wiig|Benjamin Bratt|Miran...</td>\n",
       "      <td>Pierre Coffin|Chris Renaud</td>\n",
       "      <td>Back 2 Work</td>\n",
       "      <td>Gru is recruited by the Anti-Villain League to...</td>\n",
       "      <td>98</td>\n",
       "      <td>Animation|Comedy|Family</td>\n",
       "      <td>Universal Pictures|Illumination Entertainment</td>\n",
       "      <td>6/25/2013</td>\n",
       "      <td>7.0</td>\n",
       "      <td>2013</td>\n",
       "      <td>894761885</td>\n",
       "    </tr>\n",
       "    <tr>\n",
       "      <th>974</th>\n",
       "      <td>tt1074638</td>\n",
       "      <td>200000000</td>\n",
       "      <td>1108561013</td>\n",
       "      <td>Skyfall</td>\n",
       "      <td>Daniel Craig|Judi Dench|Javier Bardem|Ralph Fi...</td>\n",
       "      <td>Sam Mendes</td>\n",
       "      <td>Think on your sins.</td>\n",
       "      <td>When Bond's latest assignment goes gravely wro...</td>\n",
       "      <td>143</td>\n",
       "      <td>Action|Adventure|Thriller</td>\n",
       "      <td>Columbia Pictures</td>\n",
       "      <td>10/25/2012</td>\n",
       "      <td>6.8</td>\n",
       "      <td>2012</td>\n",
       "      <td>908561013</td>\n",
       "    </tr>\n",
       "    <tr>\n",
       "      <th>1180</th>\n",
       "      <td>tt1300854</td>\n",
       "      <td>200000000</td>\n",
       "      <td>1215439994</td>\n",
       "      <td>Iron Man 3</td>\n",
       "      <td>Robert Downey Jr.|Gwyneth Paltrow|Guy Pearce|D...</td>\n",
       "      <td>Shane Black</td>\n",
       "      <td>Unleash the power behind the armor.</td>\n",
       "      <td>When Tony Stark's world is torn apart by a for...</td>\n",
       "      <td>130</td>\n",
       "      <td>Action|Adventure|Science Fiction</td>\n",
       "      <td>Marvel Studios</td>\n",
       "      <td>4/18/2013</td>\n",
       "      <td>6.9</td>\n",
       "      <td>2013</td>\n",
       "      <td>1015439994</td>\n",
       "    </tr>\n",
       "    <tr>\n",
       "      <th>1177</th>\n",
       "      <td>tt2294629</td>\n",
       "      <td>150000000</td>\n",
       "      <td>1274219009</td>\n",
       "      <td>Frozen</td>\n",
       "      <td>Kristen Bell|Idina Menzel|Jonathan Groff|Josh ...</td>\n",
       "      <td>Chris Buck|Jennifer Lee</td>\n",
       "      <td>Only the act of true love will thaw a frozen h...</td>\n",
       "      <td>Young princess Anna of Arendelle dreams about ...</td>\n",
       "      <td>102</td>\n",
       "      <td>Animation|Adventure|Family</td>\n",
       "      <td>Walt Disney Pictures|Walt Disney Animation Stu...</td>\n",
       "      <td>11/27/2013</td>\n",
       "      <td>7.5</td>\n",
       "      <td>2013</td>\n",
       "      <td>1124219009</td>\n",
       "    </tr>\n",
       "    <tr>\n",
       "      <th>970</th>\n",
       "      <td>tt0848228</td>\n",
       "      <td>220000000</td>\n",
       "      <td>1519557910</td>\n",
       "      <td>The Avengers</td>\n",
       "      <td>Robert Downey Jr.|Chris Evans|Mark Ruffalo|Chr...</td>\n",
       "      <td>Joss Whedon</td>\n",
       "      <td>Some assembly required.</td>\n",
       "      <td>When an unexpected enemy emerges and threatens...</td>\n",
       "      <td>143</td>\n",
       "      <td>Science Fiction|Action|Adventure</td>\n",
       "      <td>Marvel Studios</td>\n",
       "      <td>4/25/2012</td>\n",
       "      <td>7.3</td>\n",
       "      <td>2012</td>\n",
       "      <td>1299557910</td>\n",
       "    </tr>\n",
       "  </tbody>\n",
       "</table>\n",
       "<p>367 rows × 15 columns</p>\n",
       "</div>"
      ],
      "text/plain": [
       "        imdb_id     budget     revenue                   original_title  \\\n",
       "1245  tt1210819  255000000    89289910                  The Lone Ranger   \n",
       "1214  tt0790736  130000000    61648500                         R.I.P.D.   \n",
       "1007  tt1374992   60000000     8106475                      Upside Down   \n",
       "1302  tt0884726   70000000    18662027  Legends of Oz: Dorothy's Return   \n",
       "1235  tt1308729   55000000     9489829               Bullet to the Head   \n",
       "...         ...        ...         ...                              ...   \n",
       "1189  tt1690953   76000000   970761885                  Despicable Me 2   \n",
       "974   tt1074638  200000000  1108561013                          Skyfall   \n",
       "1180  tt1300854  200000000  1215439994                       Iron Man 3   \n",
       "1177  tt2294629  150000000  1274219009                           Frozen   \n",
       "970   tt0848228  220000000  1519557910                     The Avengers   \n",
       "\n",
       "                                                   cast  \\\n",
       "1245  Johnny Depp|Armie Hammer|William Fichtner|Hele...   \n",
       "1214  Jeff Bridges|Ryan Reynolds|Kevin Bacon|Stephan...   \n",
       "1007  Kirsten Dunst|Jim Sturgess|Timothy Spall|James...   \n",
       "1302  Lea Michele|Dan Aykroyd|Patrick Stewart|Hugh D...   \n",
       "1235  Sylvester Stallone|Sung Kang|Sarah Shahi|Adewa...   \n",
       "...                                                 ...   \n",
       "1189  Steve Carell|Kristen Wiig|Benjamin Bratt|Miran...   \n",
       "974   Daniel Craig|Judi Dench|Javier Bardem|Ralph Fi...   \n",
       "1180  Robert Downey Jr.|Gwyneth Paltrow|Guy Pearce|D...   \n",
       "1177  Kristen Bell|Idina Menzel|Jonathan Groff|Josh ...   \n",
       "970   Robert Downey Jr.|Chris Evans|Mark Ruffalo|Chr...   \n",
       "\n",
       "                        director  \\\n",
       "1245              Gore Verbinski   \n",
       "1214            Robert Schwentke   \n",
       "1007          Juan Diego Solanas   \n",
       "1302              Dan St. Pierre   \n",
       "1235                 Walter Hill   \n",
       "...                          ...   \n",
       "1189  Pierre Coffin|Chris Renaud   \n",
       "974                   Sam Mendes   \n",
       "1180                 Shane Black   \n",
       "1177     Chris Buck|Jennifer Lee   \n",
       "970                  Joss Whedon   \n",
       "\n",
       "                                                tagline  \\\n",
       "1245                            Never Take Off the Mask   \n",
       "1214                    To protect and serve the living   \n",
       "1007                            Two worlds. One future.   \n",
       "1302                           There's trouble in OZ...   \n",
       "1235                            Revenge Never Gets Old.   \n",
       "...                                                 ...   \n",
       "1189                                        Back 2 Work   \n",
       "974                                 Think on your sins.   \n",
       "1180                Unleash the power behind the armor.   \n",
       "1177  Only the act of true love will thaw a frozen h...   \n",
       "970                             Some assembly required.   \n",
       "\n",
       "                                               overview  runtime  \\\n",
       "1245  The Texas Rangers chase down a gang of outlaws...      149   \n",
       "1214  A recently slain cop joins a team of undead po...       96   \n",
       "1007  In an alternate universe where twinned worlds ...      104   \n",
       "1302  Dorothy wakes up in post-tornado Kansas, only ...       88   \n",
       "1235  After watching their respective partners die, ...       92   \n",
       "...                                                 ...      ...   \n",
       "1189  Gru is recruited by the Anti-Villain League to...       98   \n",
       "974   When Bond's latest assignment goes gravely wro...      143   \n",
       "1180  When Tony Stark's world is torn apart by a for...      130   \n",
       "1177  Young princess Anna of Arendelle dreams about ...      102   \n",
       "970   When an unexpected enemy emerges and threatens...      143   \n",
       "\n",
       "                                     genres  \\\n",
       "1245               Action|Adventure|Western   \n",
       "1214            Fantasy|Action|Comedy|Crime   \n",
       "1007  Romance|Science Fiction|Drama|Fantasy   \n",
       "1302                 Animation|Music|Family   \n",
       "1235                  Action|Crime|Thriller   \n",
       "...                                     ...   \n",
       "1189                Animation|Comedy|Family   \n",
       "974               Action|Adventure|Thriller   \n",
       "1180       Action|Adventure|Science Fiction   \n",
       "1177             Animation|Adventure|Family   \n",
       "970        Science Fiction|Action|Adventure   \n",
       "\n",
       "                                   production_companies release_date  \\\n",
       "1245  Walt Disney Pictures|Jerry Bruckheimer Films|I...     7/3/2013   \n",
       "1214  Universal Pictures|Original Film|Dark Horse En...    7/18/2013   \n",
       "1007  Onyx Films|Studio 37|Jouror Productions|France...    9/27/2012   \n",
       "1302   Prana Animation Studios|Summertime Entertainment    6/13/2013   \n",
       "1235  Dark Castle Entertainment|After Dark Films|IM ...    1/31/2013   \n",
       "...                                                 ...          ...   \n",
       "1189      Universal Pictures|Illumination Entertainment    6/25/2013   \n",
       "974                                   Columbia Pictures   10/25/2012   \n",
       "1180                                     Marvel Studios    4/18/2013   \n",
       "1177  Walt Disney Pictures|Walt Disney Animation Stu...   11/27/2013   \n",
       "970                                      Marvel Studios    4/25/2012   \n",
       "\n",
       "      vote_average  release_year      profit  \n",
       "1245           6.0          2013  -165710090  \n",
       "1214           5.3          2013   -68351500  \n",
       "1007           6.1          2012   -51893525  \n",
       "1302           6.1          2013   -51337973  \n",
       "1235           5.2          2013   -45510171  \n",
       "...            ...           ...         ...  \n",
       "1189           7.0          2013   894761885  \n",
       "974            6.8          2012   908561013  \n",
       "1180           6.9          2013  1015439994  \n",
       "1177           7.5          2013  1124219009  \n",
       "970            7.3          2012  1299557910  \n",
       "\n",
       "[367 rows x 15 columns]"
      ]
     },
     "execution_count": 6,
     "metadata": {},
     "output_type": "execute_result"
    }
   ],
   "source": [
    "import pandas as pd\n",
    "data = pd.read_csv('movie_bd_v5.csv')\n",
    "data['profit'] = data['revenue'] - data['budget']\n",
    "data.loc[(data['release_year']<= 2014)&(data['release_year']>=2012)].sort_values(by='profit') "
   ]
  },
  {
   "cell_type": "markdown",
   "metadata": {
    "colab_type": "text",
    "id": "EA7Sa9dkVp_I"
   },
   "source": [
    "# 11. Какого жанра фильмов больше всего?"
   ]
  },
  {
   "cell_type": "code",
   "execution_count": 43,
   "metadata": {
    "colab": {},
    "colab_type": "code",
    "id": "zsJAwJ8QVp_J"
   },
   "outputs": [
    {
     "data": {
      "text/plain": [
       "Drama              782\n",
       "Comedy             683\n",
       "Thriller           596\n",
       "Action             582\n",
       "Adventure          415\n",
       "Crime              315\n",
       "Romance            308\n",
       "Family             260\n",
       "Science Fiction    248\n",
       "Fantasy            222\n",
       "Horror             176\n",
       "Mystery            168\n",
       "Animation          139\n",
       "Music               64\n",
       "History             62\n",
       "War                 58\n",
       "Western             19\n",
       "Documentary          8\n",
       "Foreign              2\n",
       "dtype: int64"
      ]
     },
     "execution_count": 43,
     "metadata": {},
     "output_type": "execute_result"
    }
   ],
   "source": [
    "# эту задачу тоже можно решать разными подходами, попробуй реализовать разные варианты\n",
    "# если будешь добавлять функцию - выноси ее в предобработку что в начале\n",
    "pd.Series(data['genres'].str.cat(sep='|').split('|')).value_counts()"
   ]
  },
  {
   "cell_type": "markdown",
   "metadata": {
    "colab_type": "text",
    "id": "Ax6g2C8SVp_M"
   },
   "source": [
    "ВАРИАНТ 2"
   ]
  },
  {
   "cell_type": "code",
   "execution_count": null,
   "metadata": {
    "colab": {},
    "colab_type": "code",
    "id": "otO3SbrSVp_N"
   },
   "outputs": [],
   "source": []
  },
  {
   "cell_type": "markdown",
   "metadata": {
    "colab_type": "text",
    "id": "T9_bPWpkVp_Q"
   },
   "source": [
    "# 12. Фильмы какого жанра чаще всего становятся прибыльными? "
   ]
  },
  {
   "cell_type": "code",
   "execution_count": 44,
   "metadata": {},
   "outputs": [
    {
     "data": {
      "text/plain": [
       "Drama              560\n",
       "Comedy             551\n",
       "Thriller           446\n",
       "Action             444\n",
       "Adventure          337\n",
       "Romance            242\n",
       "Crime              231\n",
       "Family             226\n",
       "Science Fiction    195\n",
       "Fantasy            188\n",
       "Horror             150\n",
       "Animation          120\n",
       "Mystery            119\n",
       "Music               47\n",
       "History             46\n",
       "War                 41\n",
       "Western             12\n",
       "Documentary          7\n",
       "Name: genres, dtype: int64"
      ]
     },
     "metadata": {},
     "output_type": "display_data"
    }
   ],
   "source": [
    "data = pd.read_csv('movie_bd_v5.csv')\n",
    "data['genres'] = data['genres'].apply(lambda x:x.split('|'))\n",
    "data['profit'] = data['revenue'] - data['budget']\n",
    "data_new = data.explode('genres')\n",
    "data_profit = data_new[data_new.profit > 0]\n",
    "group_genres = data_profit['genres'].value_counts()\n",
    "display(group_genres)"
   ]
  },
  {
   "cell_type": "markdown",
   "metadata": {
    "colab_type": "text",
    "id": "0F23bgsDVp_U"
   },
   "source": [
    "# 13. У какого режиссера самые большие суммарные кассовые сборы?"
   ]
  },
  {
   "cell_type": "code",
   "execution_count": 45,
   "metadata": {
    "colab": {},
    "colab_type": "code",
    "id": "K6Z3J8ygVp_X"
   },
   "outputs": [
    {
     "data": {
      "text/plain": [
       "director\n",
       "Peter Jackson        6490593685\n",
       "Christopher Nolan    4167548502\n",
       "David Yates          4154295625\n",
       "Michael Bay          3886938960\n",
       "J.J. Abrams          3579169916\n",
       "                        ...    \n",
       "David MichÃ´d           2295423\n",
       "Steven Shainberg        2281089\n",
       "Paul Schrader           2062066\n",
       "Keanu Reeves            2054941\n",
       "Simon Hunter            2033165\n",
       "Name: revenue, Length: 997, dtype: int64"
      ]
     },
     "execution_count": 45,
     "metadata": {},
     "output_type": "execute_result"
    }
   ],
   "source": [
    "import pandas as pd\n",
    "data = pd.read_csv('movie_bd_v5.csv')\n",
    "data['director'] = data.director.apply(lambda x:x.split('|'))\n",
    "data_new = data.explode('director')\n",
    "data_new.groupby('director').revenue.sum().sort_values(ascending=False)"
   ]
  },
  {
   "cell_type": "markdown",
   "metadata": {
    "colab_type": "text",
    "id": "PsYC9FgRVp_a"
   },
   "source": [
    "# 14. Какой режисер снял больше всего фильмов в стиле Action?"
   ]
  },
  {
   "cell_type": "code",
   "execution_count": 8,
   "metadata": {},
   "outputs": [
    {
     "data": {
      "text/plain": [
       "[('Robert Rodriguez', 9),\n",
       " ('Michael Bay', 7),\n",
       " ('Paul W.S. Anderson', 7),\n",
       " ('Antoine Fuqua', 6),\n",
       " ('Ridley Scott', 6)]"
      ]
     },
     "execution_count": 8,
     "metadata": {},
     "output_type": "execute_result"
    }
   ],
   "source": [
    "import pandas as pd\n",
    "from collections import Counter\n",
    "data = pd.read_csv('movie_bd_v5.csv')\n",
    "action = data[data.genres.str.contains('Action')]\n",
    "director_list = action['director'].str.cat(sep='|').split('|')\n",
    "director_list\n",
    "Counter(director_list).most_common(5)"
   ]
  },
  {
   "cell_type": "markdown",
   "metadata": {
    "colab_type": "text",
    "id": "PQ0KciD7Vp_f"
   },
   "source": [
    "# 15. Фильмы с каким актером принесли самые высокие кассовые сборы в 2012 году? "
   ]
  },
  {
   "cell_type": "code",
   "execution_count": 47,
   "metadata": {
    "colab": {},
    "colab_type": "code",
    "id": "aga62oeKVp_g"
   },
   "outputs": [
    {
     "name": "stderr",
     "output_type": "stream",
     "text": [
      "<ipython-input-47-9bd710599232>:4: SettingWithCopyWarning: \n",
      "A value is trying to be set on a copy of a slice from a DataFrame.\n",
      "Try using .loc[row_indexer,col_indexer] = value instead\n",
      "\n",
      "See the caveats in the documentation: https://pandas.pydata.org/pandas-docs/stable/user_guide/indexing.html#returning-a-view-versus-a-copy\n",
      "  data1['cast'] = data1.cast.apply(lambda x:x.split('|'))\n"
     ]
    },
    {
     "data": {
      "text/plain": [
       "cast\n",
       "Chris Hemsworth      2027450773\n",
       "Denis Leary          1629460639\n",
       "Anne Hathaway        1522851057\n",
       "Chris Evans          1519557910\n",
       "Robert Downey Jr.    1519557910\n",
       "                        ...    \n",
       "Jason Bateman           3428048\n",
       "Danny Huston            2106557\n",
       "Sami Gayle              2106557\n",
       "Josh Lucas              2106557\n",
       "Nicolas Cage            2106557\n",
       "Name: revenue, Length: 466, dtype: int64"
      ]
     },
     "execution_count": 47,
     "metadata": {},
     "output_type": "execute_result"
    }
   ],
   "source": [
    "import pandas as pd\n",
    "data = pd.read_csv('movie_bd_v5.csv')\n",
    "data1 = data[data.release_year == 2012]\n",
    "data1['cast'] = data1.cast.apply(lambda x:x.split('|'))\n",
    "data2 = data1.explode('cast')\n",
    "data2.groupby('cast').revenue.sum().sort_values(ascending=False)\n",
    "\n",
    "#непонятно сообщение на розовом фоне внизу..?"
   ]
  },
  {
   "cell_type": "code",
   "execution_count": 48,
   "metadata": {},
   "outputs": [
    {
     "data": {
      "text/plain": [
       "'Robert Downey Jr.|Chris Evans|Mark Ruffalo|Chris Hemsworth|Scarlett Johansson'"
      ]
     },
     "execution_count": 48,
     "metadata": {},
     "output_type": "execute_result"
    }
   ],
   "source": [
    "# если упростить задачу, найдя актеров самого кассового фильма. Естественно, без учета что актеры могли сняться в нескольких кассовых фильмах\n",
    "data = pd.read_csv('movie_bd_v5.csv')\n",
    "data[data.revenue == data[data.release_year == 2012].revenue.max()].cast.iloc[0]\n"
   ]
  },
  {
   "cell_type": "markdown",
   "metadata": {
    "colab_type": "text",
    "id": "mWHyyL7QVp_j"
   },
   "source": [
    "# 16. Какой актер снялся в большем количестве высокобюджетных фильмов?"
   ]
  },
  {
   "cell_type": "code",
   "execution_count": 49,
   "metadata": {
    "colab": {},
    "colab_type": "code",
    "id": "aga62oeKVp_g"
   },
   "outputs": [
    {
     "name": "stderr",
     "output_type": "stream",
     "text": [
      "<ipython-input-49-65a350a2cc5e>:4: SettingWithCopyWarning: \n",
      "A value is trying to be set on a copy of a slice from a DataFrame.\n",
      "Try using .loc[row_indexer,col_indexer] = value instead\n",
      "\n",
      "See the caveats in the documentation: https://pandas.pydata.org/pandas-docs/stable/user_guide/indexing.html#returning-a-view-versus-a-copy\n",
      "  data1['cast'] = data1.cast.apply(lambda x:x.split('|'))\n"
     ]
    },
    {
     "data": {
      "text/plain": [
       "cast\n",
       "Matt Damon           18\n",
       "Adam Sandler         17\n",
       "Angelina Jolie       16\n",
       "Eddie Murphy         15\n",
       "Samuel L. Jackson    15\n",
       "                     ..\n",
       "Leslie Bibb           1\n",
       "Leonard Nimoy         1\n",
       "Lennie James          1\n",
       "Lena Olin             1\n",
       "50 Cent               1\n",
       "Name: original_title, Length: 1505, dtype: int64"
      ]
     },
     "execution_count": 49,
     "metadata": {},
     "output_type": "execute_result"
    }
   ],
   "source": [
    "import pandas as pd\n",
    "data = pd.read_csv('movie_bd_v5.csv')\n",
    "data1 = data[data.budget > data.budget.mean()]\n",
    "data1['cast'] = data1.cast.apply(lambda x:x.split('|'))\n",
    "data2 = data1.explode('cast')\n",
    "data2.groupby('cast').original_title.count().sort_values(ascending=False)"
   ]
  },
  {
   "cell_type": "markdown",
   "metadata": {
    "colab_type": "text",
    "id": "NIh6AaW5Vp_n"
   },
   "source": [
    "# 17. В фильмах какого жанра больше всего снимался Nicolas Cage? "
   ]
  },
  {
   "cell_type": "code",
   "execution_count": 50,
   "metadata": {
    "colab": {},
    "colab_type": "code",
    "id": "aga62oeKVp_g"
   },
   "outputs": [
    {
     "data": {
      "text/plain": [
       "Action    17\n",
       "Name: genres, dtype: int64"
      ]
     },
     "execution_count": 50,
     "metadata": {},
     "output_type": "execute_result"
    }
   ],
   "source": [
    "import pandas as pd\n",
    "data = pd.read_csv('movie_bd_v5.csv')\n",
    "data['genres'] = data.genres.apply(lambda x:x.split('|'))\n",
    "data0 = data.explode('genres')\n",
    "data0['cast'] = data0.cast.apply(lambda x:x.split('|'))\n",
    "data1 = data0.explode('cast')\n",
    "data_new = data1[data1.cast == 'Nicolas Cage']\n",
    "data_new.genres.value_counts().sort_values(ascending=False).iloc[:1]"
   ]
  },
  {
   "cell_type": "markdown",
   "metadata": {
    "colab_type": "text",
    "id": "RqOmPRfWVp_q"
   },
   "source": [
    "# 18. Самый убыточный фильм от Paramount Pictures"
   ]
  },
  {
   "cell_type": "code",
   "execution_count": 51,
   "metadata": {
    "colab": {},
    "colab_type": "code",
    "id": "aga62oeKVp_g"
   },
   "outputs": [
    {
     "data": {
      "text/plain": [
       "original_title\n",
       "K-19: The Widowmaker                                  -64831034\n",
       "Timeline                                              -60519261\n",
       "Next                                                  -51788987\n",
       "Alfie                                                 -46604061\n",
       "Twisted                                               -24805000\n",
       "                                                        ...    \n",
       "Mission: Impossible - Ghost Protocol                  549713380\n",
       "Transformers                                          559709780\n",
       "Indiana Jones and the Kingdom of the Crystal Skull    601636033\n",
       "Transformers: Revenge of the Fallen                   686297228\n",
       "Transformers: Dark of the Moon                        928746996\n",
       "Name: profit, Length: 122, dtype: int64"
      ]
     },
     "execution_count": 51,
     "metadata": {},
     "output_type": "execute_result"
    }
   ],
   "source": [
    "import pandas as pd\n",
    "data = pd.read_csv('movie_bd_v5.csv')\n",
    "data['profit'] = data['revenue'] - data['budget']\n",
    "data['production_companies'] = data.production_companies.apply(lambda x:x.split('|'))\n",
    "data0 = data.explode('production_companies')\n",
    "data1 = data0[data0.production_companies == 'Paramount Pictures']\n",
    "data1.groupby('original_title').profit.min().sort_values(ascending=True)"
   ]
  },
  {
   "cell_type": "markdown",
   "metadata": {
    "colab_type": "text",
    "id": "vS8Ur6ddVp_u"
   },
   "source": [
    "# 19. Какой год стал самым успешным по суммарным кассовым сборам?"
   ]
  },
  {
   "cell_type": "code",
   "execution_count": 52,
   "metadata": {
    "colab": {},
    "colab_type": "code",
    "id": "Dnbt4GdIVp_v"
   },
   "outputs": [
    {
     "data": {
      "text/plain": [
       "release_year\n",
       "2015    25449202382\n",
       "2014    23405862953\n",
       "2013    23213799791\n",
       "2012    23079001687\n",
       "2011    22676791872\n",
       "2010    21071204961\n",
       "2009    20261791024\n",
       "2008    18252781990\n",
       "2007    18162406801\n",
       "2004    15663430720\n",
       "2005    15309425558\n",
       "2006    14775042320\n",
       "2003    14346123312\n",
       "2002    14136361487\n",
       "2001    13017764865\n",
       "2000    10664099805\n",
       "Name: revenue, dtype: int64"
      ]
     },
     "execution_count": 52,
     "metadata": {},
     "output_type": "execute_result"
    }
   ],
   "source": [
    "import pandas as pd\n",
    "data = pd.read_csv('movie_bd_v5.csv')\n",
    "data.groupby('release_year').revenue.sum().sort_values(ascending=False)"
   ]
  },
  {
   "cell_type": "markdown",
   "metadata": {
    "colab_type": "text",
    "id": "JAzJh4QAVp_z"
   },
   "source": [
    "# 20. Какой самый прибыльный год для студии Warner Bros?"
   ]
  },
  {
   "cell_type": "code",
   "execution_count": 77,
   "metadata": {
    "colab": {},
    "colab_type": "code",
    "id": "wgVu02DEVp_0"
   },
   "outputs": [
    {
     "data": {
      "text/plain": [
       "release_year\n",
       "2014    3246549646\n",
       "2007    3183675217\n",
       "2008    3050595031\n",
       "2010    3008712985\n",
       "2011    2845393682\n",
       "2003    2814008221\n",
       "2009    2737954136\n",
       "2004    2731933725\n",
       "2013    2599953400\n",
       "2005    2412980298\n",
       "2001    2280142579\n",
       "2012    1869520056\n",
       "2002    1702709901\n",
       "2015    1691168351\n",
       "2006    1576351872\n",
       "2000    1025531386\n",
       "Name: revenue, dtype: int64"
      ]
     },
     "execution_count": 77,
     "metadata": {},
     "output_type": "execute_result"
    }
   ],
   "source": [
    "import pandas as pd\n",
    "data = pd.read_csv('movie_bd_v5.csv')\n",
    "data['profit'] = data['revenue'] - data['budget']\n",
    "data['production_companies'] = data.production_companies.apply(lambda x:x.split('|'))\n",
    "data_explode = data.explode('production_companies')\n",
    "data_filtered = data_explode[data_explode['production_companies'].str.contains('Warner Bros')].copy()\n",
    "data_filtered.groupby('release_year').revenue.sum().sort_values(ascending=False)"
   ]
  },
  {
   "cell_type": "markdown",
   "metadata": {
    "colab_type": "text",
    "id": "8Im1S2HRVp_4"
   },
   "source": [
    "# 21. В каком месяце за все годы суммарно вышло больше всего фильмов?"
   ]
  },
  {
   "cell_type": "code",
   "execution_count": 84,
   "metadata": {
    "colab": {},
    "colab_type": "code",
    "id": "lev6TH7gVp_4"
   },
   "outputs": [
    {
     "data": {
      "text/plain": [
       "1    632\n",
       "9    227\n",
       "8    161\n",
       "3    156\n",
       "4    149\n",
       "6    147\n",
       "7    142\n",
       "5    140\n",
       "2    135\n",
       "Name: month, dtype: int64"
      ]
     },
     "execution_count": 84,
     "metadata": {},
     "output_type": "execute_result"
    }
   ],
   "source": [
    "import pandas as pd\n",
    "import re\n",
    "data = pd.read_csv('movie_bd_v5.csv')\n",
    "data['month'] = data.release_date.apply(lambda x: x[0])\n",
    "data.month.value_counts().sort_values(ascending=False)"
   ]
  },
  {
   "cell_type": "markdown",
   "metadata": {
    "colab_type": "text",
    "id": "uAJsZ_NeVp_7"
   },
   "source": [
    "# 22. Сколько суммарно вышло фильмов летом? (за июнь, июль, август)"
   ]
  },
  {
   "cell_type": "code",
   "execution_count": 126,
   "metadata": {
    "colab": {},
    "colab_type": "code",
    "id": "lev6TH7gVp_4"
   },
   "outputs": [
    {
     "data": {
      "text/plain": [
       "450"
      ]
     },
     "execution_count": 126,
     "metadata": {},
     "output_type": "execute_result"
    }
   ],
   "source": [
    "import pandas as pd\n",
    "data = pd.read_csv('movie_bd_v5.csv')\n",
    "data['month'] = data.release_date.apply(lambda x:x[0])\n",
    "len(data.loc[data['month'].isin(['6','7','8'])])\n"
   ]
  },
  {
   "cell_type": "markdown",
   "metadata": {
    "colab_type": "text",
    "id": "G94ppOY1VqAA"
   },
   "source": [
    "# 23. Для какого режиссера зима – самое продуктивное время года? "
   ]
  },
  {
   "cell_type": "code",
   "execution_count": 3,
   "metadata": {
    "colab": {},
    "colab_type": "code",
    "id": "lev6TH7gVp_4"
   },
   "outputs": [
    {
     "data": {
      "text/plain": [
       "Peter Jackson                7\n",
       "Steven Soderbergh            6\n",
       "Clint Eastwood               6\n",
       "Nancy Meyers                 4\n",
       "Martin Scorsese              4\n",
       "                            ..\n",
       "Geoffrey Sax                 1\n",
       "Christian E. Christiansen    1\n",
       "Tamra Davis                  1\n",
       "Kathryn Bigelow              1\n",
       "Frank Miller                 1\n",
       "Name: director, Length: 358, dtype: int64"
      ]
     },
     "execution_count": 3,
     "metadata": {},
     "output_type": "execute_result"
    }
   ],
   "source": [
    "import pandas as pd\n",
    "data = pd.read_csv('movie_bd_v5.csv')\n",
    "data['month'] = data.release_date.apply(lambda x:x.split('/')[0])\n",
    "data['director'] = data.director.apply(lambda x:x.split('|'))\n",
    "data_new = data.explode('director')\n",
    "data_new[data_new.month.isin(['12','1','2'])].director.value_counts()"
   ]
  },
  {
   "cell_type": "markdown",
   "metadata": {
    "colab_type": "text",
    "id": "RBo0JVjVVqAF"
   },
   "source": [
    "# 24. Какая студия дает самые длинные названия своим фильмам по количеству символов?"
   ]
  },
  {
   "cell_type": "code",
   "execution_count": 174,
   "metadata": {
    "colab": {},
    "colab_type": "code",
    "id": "lev6TH7gVp_4"
   },
   "outputs": [
    {
     "data": {
      "text/plain": [
       "production_companies\n",
       "Four By Two Productions       83.0\n",
       "Jim Henson Company, The       59.0\n",
       "Dos Corazones                 47.0\n",
       "Museum Canada Productions     46.0\n",
       "Polsky Films                  46.0\n",
       "                              ... \n",
       "Everest Entertainment          3.0\n",
       "Berlanti Productions           3.0\n",
       "XM2 Productions                2.0\n",
       "Ixtlan Productions             2.0\n",
       "Global Entertainment Group     2.0\n",
       "Name: title_length, Length: 1771, dtype: float64"
      ]
     },
     "execution_count": 174,
     "metadata": {},
     "output_type": "execute_result"
    }
   ],
   "source": [
    "import pandas as pd\n",
    "data = pd.read_csv('movie_bd_v5.csv')\n",
    "data['production_companies'] = data.production_companies.apply(lambda x:x.split('|'))\n",
    "data_new = data.explode('production_companies')\n",
    "data_new['title_length'] = data_new.original_title.apply(lambda x:len(x))\n",
    "data_new.groupby('production_companies').title_length.mean().sort_values(ascending=False)\n"
   ]
  },
  {
   "cell_type": "markdown",
   "metadata": {
    "colab_type": "text",
    "id": "9G0hbvR7VqAK"
   },
   "source": [
    "# 25. Описание фильмов какой студии в среднем самые длинные по количеству слов?"
   ]
  },
  {
   "cell_type": "code",
   "execution_count": 152,
   "metadata": {
    "colab": {},
    "colab_type": "code",
    "id": "lev6TH7gVp_4"
   },
   "outputs": [
    {
     "data": {
      "text/plain": [
       "production_companies\n",
       "Midnight Picture Show                    175.0\n",
       "Room 9 Entertainment                     161.0\n",
       "Heineken Branded Entertainment           161.0\n",
       "98 MPH Productions                       159.0\n",
       "Brookwell-McNamara Entertainment         156.0\n",
       "                                         ...  \n",
       "London Boulevard                          13.0\n",
       "Phantom Four                              13.0\n",
       "Henceforth                                13.0\n",
       "Empire Pictures                           11.0\n",
       "Motion Picture Corporation of America     11.0\n",
       "Name: overview_count, Length: 1771, dtype: float64"
      ]
     },
     "execution_count": 152,
     "metadata": {},
     "output_type": "execute_result"
    }
   ],
   "source": [
    "import pandas as pd\n",
    "data = pd.read_csv('movie_bd_v5.csv')\n",
    "data['production_companies'] = data.production_companies.apply(lambda x:x.split('|'))\n",
    "data_new = data.explode('production_companies')        \n",
    "data_new['overview_count'] = data.overview.apply(lambda x: len(x.split(' ')))\n",
    "data_new.groupby('production_companies').overview_count.mean().sort_values(ascending=False)"
   ]
  },
  {
   "cell_type": "markdown",
   "metadata": {
    "colab_type": "text",
    "id": "FJ1AFt90VqAP"
   },
   "source": [
    "# 26. Какие фильмы входят в 1 процент лучших по рейтингу? \n",
    "по vote_average"
   ]
  },
  {
   "cell_type": "code",
   "execution_count": 165,
   "metadata": {
    "colab": {},
    "colab_type": "code",
    "id": "8qmJVq4CVqAQ"
   },
   "outputs": [
    {
     "data": {
      "text/plain": [
       "9                                          Inside Out\n",
       "34                                               Room\n",
       "118                                      Interstellar\n",
       "119                           Guardians of the Galaxy\n",
       "125                                The Imitation Game\n",
       "128                                         Gone Girl\n",
       "138                          The Grand Budapest Hotel\n",
       "370                                         Inception\n",
       "599                                   The Dark Knight\n",
       "872                                       The Pianist\n",
       "1081    The Lord of the Rings: The Return of the King\n",
       "1183                          The Wolf of Wall Street\n",
       "1191                                 12 Years a Slave\n",
       "1800                                          Memento\n",
       "Name: original_title, dtype: object"
      ]
     },
     "execution_count": 165,
     "metadata": {},
     "output_type": "execute_result"
    }
   ],
   "source": [
    "import pandas as pd\n",
    "data = pd.read_csv('movie_bd_v5.csv')\n",
    "data.loc[data['vote_average']>data.quantile(0.99, numeric_only=True)['vote_average']]['original_title']"
   ]
  },
  {
   "cell_type": "markdown",
   "metadata": {
    "colab_type": "text",
    "id": "MdXsUXbCVqAV"
   },
   "source": [
    "# 27. Какие актеры чаще всего снимаются в одном фильме вместе?\n"
   ]
  },
  {
   "cell_type": "code",
   "execution_count": 170,
   "metadata": {},
   "outputs": [
    {
     "data": {
      "text/plain": [
       "[(('Daniel Radcliffe', 'Rupert Grint'), 8)]"
      ]
     },
     "execution_count": 170,
     "metadata": {},
     "output_type": "execute_result"
    }
   ],
   "source": [
    "import pandas as pd\n",
    "import collections\n",
    "data = pd.read_csv('movie_bd_v5.csv')\n",
    "data['cast'] = data['cast'].apply(lambda x:x.split('|'))\n",
    "from itertools import combinations\n",
    "data['pairs'] = data['cast'].apply(lambda s: list(combinations(s, 2)))\n",
    "data = data.explode('pairs')\n",
    "collections.Counter(data['pairs']).most_common(1)"
   ]
  },
  {
   "cell_type": "markdown",
   "metadata": {
    "colab_type": "text",
    "id": "4ymnxEVoVqAW"
   },
   "source": [
    "ВАРИАНТ 2"
   ]
  },
  {
   "cell_type": "markdown",
   "metadata": {
    "colab_type": "text",
    "id": "U0nONFnGVqAX"
   },
   "source": [
    "# Submission"
   ]
  },
  {
   "cell_type": "code",
   "execution_count": 10,
   "metadata": {
    "colab": {},
    "colab_type": "code",
    "id": "IfcaRO9-VqAX",
    "outputId": "0f132912-32bb-4196-c98c-abfbc4ad5a5f"
   },
   "outputs": [
    {
     "name": "stdout",
     "output_type": "stream",
     "text": [
      "{'1': 'Pirates of the Caribbean: On Stranger Tides (tt1298650)', '2': 'Gods and Generals (tt0279111)', '3': 'Winnie the Pooh (tt1449283)', '4': '110', '5': '107', '6': 'Avatar (tt0499549)', '7': 'The Lone Ranger (tt1210819)', '8': '1478', '9': 'The Dark Knight (tt0468569)', '10': 'The Lone Ranger (tt1210819)', '11': 'Drama', '12': 'Drama', '13': 'Peter Jackson', '14': 'Robert Rodriguez', '15': 'Chris Hemsworth', '16': 'Matt Damon', '17': 'Action', '18': 'K-19: The Widowmaker (tt0267626)', '19': '2005', '20': '2014', '21': 'Сентябрь', '22': '450', '23': 'Peter Jackson', '24': 'Four By Two Productions', '25': 'Midnight Picture Show', '26': 'Inside Out, The Dark Knight, 12 Years a Slave', '27': 'Daniel Radcliffe & Rupert Grint'}\n"
     ]
    }
   ],
   "source": [
    "# в конце можно посмотреть свои ответы к каждому вопросу\n",
    "print(answers)"
   ]
  },
  {
   "cell_type": "code",
   "execution_count": 11,
   "metadata": {
    "colab": {},
    "colab_type": "code",
    "id": "SiRmHPl8VqAd"
   },
   "outputs": [
    {
     "data": {
      "text/plain": [
       "27"
      ]
     },
     "execution_count": 11,
     "metadata": {},
     "output_type": "execute_result"
    }
   ],
   "source": [
    "# и убедиться что ни чего не пропустил)\n",
    "len(answers)"
   ]
  }
 ],
 "metadata": {
  "colab": {
   "name": "Copy of [SF-DST] Movies IMBD v4.1 TEMPLATE.ipynb",
   "provenance": []
  },
  "kernelspec": {
   "display_name": "Python 3",
   "language": "python",
   "name": "python3"
  },
  "language_info": {
   "codemirror_mode": {
    "name": "ipython",
    "version": 3
   },
   "file_extension": ".py",
   "mimetype": "text/x-python",
   "name": "python",
   "nbconvert_exporter": "python",
   "pygments_lexer": "ipython3",
   "version": "3.8.3"
  }
 },
 "nbformat": 4,
 "nbformat_minor": 1
}
